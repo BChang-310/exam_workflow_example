{
 "cells": [
  {
   "cell_type": "markdown",
   "id": "45fd65aa",
   "metadata": {},
   "source": [
    "# PGE310 Exam 1\n",
    "\n",
    "This is a dummy template for exam 1 to test automatically creating exam questions.\n",
    "\n",
    "Create an array (a) and multiply it by 2.\n",
    "\n",
    "$$ a = \\begin{bmatrix} 1 & 2 & 3\\\\ a21 & a22 & a23 \\end{bmatrix} $$\n"
   ]
  },
  {
   "cell_type": "code",
   "execution_count": null,
   "id": "28a05377",
   "metadata": {},
   "outputs": [],
   "source": [
    "a = \n",
    "b = "
   ]
  }
 ],
 "metadata": {
  "kernelspec": {
   "display_name": "Python 3",
   "language": "python",
   "name": "python3"
  },
  "language_info": {
   "codemirror_mode": {
    "name": "ipython",
    "version": 3
   },
   "file_extension": ".py",
   "mimetype": "text/x-python",
   "name": "python",
   "nbconvert_exporter": "python",
   "pygments_lexer": "ipython3",
   "version": "3.8.8"
  }
 },
 "nbformat": 4,
 "nbformat_minor": 5
}
