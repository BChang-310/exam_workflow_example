{
 "cells": [
  {
   "cell_type": "markdown",
   "metadata": {},
   "source": [
    "# PGE 310  - Exam 1 - October 20, 2021\n",
    "\n",
    "1. You need to start your exam between 7 and 8pm on October 20, 2021, and you  have 2 hours to solve and turn in this exam. Please upload your solution both __on Github AND on Canvas.__\n",
    "\n",
    "2. If all else fails, email the .ipynb file to Dr. Prodanovic at masha@utexas.edu\n",
    "\n",
    "3. Solve each problem in full using detailed Python code. \n",
    "\n",
    "4. In cases where you do not complete the solution, type in as much as you know, even if errors occur.\n",
    "\n",
    "5. This is open notes exam, and you are allowed to consult the course lectures, solved homework, and official module/library documentation (e.g. https://numpy.org/). __You are not allowed to consult any other person, or other online resources.__\n"
   ]
  },
  {
   "cell_type": "markdown",
   "metadata": {
    "ExecuteTime": {
     "end_time": "2021-10-16T20:53:12.764616Z",
     "start_time": "2021-10-16T20:53:12.753128Z"
    }
   },
   "source": [
    "# Pledge\n",
    "The core values of The University of Texas at Austin are:\n",
    "- learning, \n",
    "- discovery, \n",
    "- freedom, \n",
    "- leadership, \n",
    "- individual opportunity, and \n",
    "- responsibility.\n",
    "\n",
    "As a student of the University, you shall abide by the core values and uphold academic integrity.\n",
    "\n",
    "## Exam pledge\n",
    "I pledge not to copy from nor consult anyone/anything in solving this exam.\n"
   ]
  },
  {
   "cell_type": "code",
   "execution_count": null,
   "metadata": {
    "ExecuteTime": {
     "end_time": "2021-10-16T21:24:53.495464Z",
     "start_time": "2021-10-16T21:24:42.279566Z"
    }
   },
   "outputs": [],
   "source": [
    "pledge = input('Retype the above pledge: ')"
   ]
  },
  {
   "cell_type": "markdown",
   "metadata": {
    "ExecuteTime": {
     "end_time": "2021-10-16T21:32:41.149231Z",
     "start_time": "2021-10-16T21:32:41.132227Z"
    }
   },
   "source": [
    "## Consequences\n",
    "If caught cheating on the exam, I understand that I will receive 0 on the exam, and my conduct may be reported to the Dean of Students.\n",
    "__Students with two such reports are suspended from the University.__"
   ]
  },
  {
   "cell_type": "markdown",
   "metadata": {
    "ExecuteTime": {
     "end_time": "2021-10-16T20:58:30.463813Z",
     "start_time": "2021-10-16T20:58:30.463813Z"
    }
   },
   "source": [
    "## By signing below, you verify the pledge above and that you understand the consequences."
   ]
  },
  {
   "cell_type": "code",
   "execution_count": null,
   "metadata": {
    "ExecuteTime": {
     "end_time": "2021-10-16T21:24:56.963001Z",
     "start_time": "2021-10-16T21:24:53.560590Z"
    }
   },
   "outputs": [],
   "source": [
    "signed = input('Type in your first and last name: ')"
   ]
  },
  {
   "cell_type": "markdown",
   "metadata": {},
   "source": [
    "# Problem 1: Matrix and Vector Operations in NumPy\n",
    "\n",
    "_(20 points)_ \n",
    "\n",
    "In the following question there are a number of given arrays (matrices A,B or vectors u,w) as well as scalars $\\alpha$, $\\beta$. Type in commands that will create the other arrays. You might be asked to create different other arrays.\n"
   ]
  },
  {
   "cell_type": "code",
   "execution_count": null,
   "metadata": {},
   "outputs": [],
   "source": [
    "import numpy as np"
   ]
  },
  {
   "cell_type": "code",
   "execution_count": null,
   "metadata": {
    "ExecuteTime": {
     "end_time": "2021-10-18T15:46:29.610948Z",
     "start_time": "2021-10-18T15:46:29.595474Z"
    }
   },
   "outputs": [],
   "source": [
    "A = np.array([[TMPA0A, TMPA1A, TMPA2A, TMPA3A],\n",
    "              [TMPA4A, TMPA5A, TMPA6A, TMPA7A],\n",
    "              [TMPA8A, TMPA9A, TMPA10A, TMPA11A]])\n",
    "              \n",
    "B = np.array([[TMPB0B, TMPB1B, TMPB2B, TMPB3B],\n",
    "              [TMPB4B, TMPB5B, TMPB6B, TMPB7B],\n",
    "              [TMPB8B, TMPB9B, TMPB10B, TMPB11B]])      \n",
    "              \n",
    "u = np.array([TMPU0, TMPU1, TMPU2])\n",
    "w = np.array([TMPW0, TMPW1, TMPW2])\n",
    "\n",
    "alpha = TMPALPHA\n",
    "beta = TMPBETA\n",
    "\n",
    "print('A =')\n",
    "print(A)\n",
    "print('B =')\n",
    "print(B)\n",
    "\n",
    "print('u =',u)\n",
    "print('v =',w)\n",
    "\n",
    "print('alpha =',alpha)\n",
    "print('beta  =',beta)\n"
   ]
  },
  {
   "cell_type": "markdown",
   "metadata": {},
   "source": [
    "__a) Compute $C=\\alpha B^TA$__"
   ]
  },
  {
   "cell_type": "code",
   "execution_count": null,
   "metadata": {
    "ExecuteTime": {
     "end_time": "2021-10-18T15:46:32.116171Z",
     "start_time": "2021-10-18T15:46:32.102208Z"
    }
   },
   "outputs": [],
   "source": [
    "C = 0\n",
    "print(C)"
   ]
  },
  {
   "cell_type": "markdown",
   "metadata": {},
   "source": [
    "__b) Compute $L_1$, $L_2$ and $L_{\\infty}$  norms of u.__"
   ]
  },
  {
   "cell_type": "code",
   "execution_count": null,
   "metadata": {
    "ExecuteTime": {
     "end_time": "2021-10-18T15:47:10.881895Z",
     "start_time": "2021-10-18T15:47:10.863859Z"
    }
   },
   "outputs": [],
   "source": [
    "u_l1 = 0\n",
    "u_l2 = 0\n",
    "u_linf = 0 \n",
    "print(u_l1, u_l2, u_linf)"
   ]
  },
  {
   "cell_type": "markdown",
   "metadata": {
    "ExecuteTime": {
     "end_time": "2021-10-16T15:08:52.376463Z",
     "start_time": "2021-10-16T15:08:52.358373Z"
    }
   },
   "source": [
    "__c) Compute the angle between vectors u and w in degrees.__"
   ]
  },
  {
   "cell_type": "code",
   "execution_count": null,
   "metadata": {
    "ExecuteTime": {
     "end_time": "2021-10-18T15:49:51.171163Z",
     "start_time": "2021-10-18T15:49:51.157201Z"
    }
   },
   "outputs": [],
   "source": []
  },
  {
   "cell_type": "markdown",
   "metadata": {
    "ExecuteTime": {
     "end_time": "2021-10-16T15:11:40.294754Z",
     "start_time": "2021-10-16T15:11:40.272769Z"
    }
   },
   "source": [
    "__d) Compute $d =\\beta A B^T w$__"
   ]
  },
  {
   "cell_type": "code",
   "execution_count": null,
   "metadata": {
    "ExecuteTime": {
     "end_time": "2021-10-16T15:14:28.852827Z",
     "start_time": "2021-10-16T15:14:28.846273Z"
    }
   },
   "outputs": [],
   "source": [
    "d = 0\n",
    "print(d)"
   ]
  },
  {
   "cell_type": "markdown",
   "metadata": {},
   "source": [
    "__e) Compute scalar $e=\\alpha A_{12} + \\beta B_{12}$__; assume expression is given in Python indexing (i.e. 0-indexing)"
   ]
  },
  {
   "cell_type": "code",
   "execution_count": null,
   "metadata": {
    "ExecuteTime": {
     "end_time": "2021-10-16T15:18:09.952562Z",
     "start_time": "2021-10-16T15:18:09.931563Z"
    }
   },
   "outputs": [],
   "source": [
    "e = 0\n",
    "print(e)"
   ]
  },
  {
   "cell_type": "markdown",
   "metadata": {
    "ExecuteTime": {
     "end_time": "2021-10-16T20:20:40.330641Z",
     "start_time": "2021-10-16T20:20:40.317674Z"
    }
   },
   "source": [
    "# Problem 2: Plotting Parameterized Curve\n",
    "_(15 points)_\n",
    "Here is a nice-looking plane curve given with the parametric equations:\n",
    "$$ x(t) = TMP21cos(t) - cos(TMP22t) $$\n",
    "$$ y(t) = TMP21sin(t) - sin(TMP22t) $$\n",
    "\n",
    "\n",
    "__a)__ \n",
    "- __Ask the user to enter a number of points ```N``` that will be plotted. This will be used for initializing parameter ```t``` in part b.__\n",
    "\n",
    "- __Then, check if ```N``` is positive and in the range 100 to 1000 (inclusive). If it is not, then set it to 1000.__"
   ]
  },
  {
   "cell_type": "code",
   "execution_count": null,
   "metadata": {
    "ExecuteTime": {
     "end_time": "2021-10-18T15:18:04.409589Z",
     "start_time": "2021-10-18T15:17:48.577352Z"
    }
   },
   "outputs": [],
   "source": [
    "N = 0\n",
    "\n",
    "print(N)"
   ]
  },
  {
   "cell_type": "markdown",
   "metadata": {},
   "source": [
    "__b)__ Generate values of x and y for N values of t in range 0 to $2\\pi$. Then plot  y vs. x in __magenta dashed__ line. \n",
    "\n",
    "- Include plot title with __your name__\n",
    "- Include x, y axis labels."
   ]
  },
  {
   "cell_type": "code",
   "execution_count": null,
   "metadata": {
    "ExecuteTime": {
     "end_time": "2021-10-18T15:19:47.557509Z",
     "start_time": "2021-10-18T15:19:47.358041Z"
    }
   },
   "outputs": [],
   "source": [
    "import numpy as np\n",
    "import math\n",
    "import matplotlib.pyplot as plt\n"
   ]
  },
  {
   "cell_type": "markdown",
   "metadata": {
    "ExecuteTime": {
     "end_time": "2021-10-16T20:31:14.702602Z",
     "start_time": "2021-10-16T20:31:14.702602Z"
    }
   },
   "source": [
    "__c)__\n",
    "- Save the data in the file named 'curve_xy.txt'. The first two lines in the code should be:\n",
    "\n",
    "\"\"\\\n",
    "Parameterized curve: \n",
    "\n",
    "x(t) = TMP21cos(t) - cos(TMP21t), y(t) = TMP21sin(t) - sin(TMP22t).\\\n",
    "\"\"\n",
    "\n",
    "- Each following lines should have x and y coordinates of a point on the curve."
   ]
  },
  {
   "cell_type": "code",
   "execution_count": null,
   "metadata": {
    "ExecuteTime": {
     "end_time": "2021-10-18T15:18:04.770678Z",
     "start_time": "2021-10-18T15:18:04.756917Z"
    }
   },
   "outputs": [],
   "source": []
  },
  {
   "cell_type": "markdown",
   "metadata": {},
   "source": [
    "# Problem 3: Square Wave Series\n",
    "\n",
    "_(20 points)_\n",
    "\n",
    "The following series is called a square wave series, as it approximates a square wave from -1 to 1 on domain $[-\\pi,\\pi]$ as m approaches $\\infty$:\n",
    "$$ S(x) = \\frac{4}{\\pi}\\Sigma_{m=0}^{\\infty} \\frac{sin((2m+1)x)}{2m+1}$$\n",
    "\n",
    "\n",
    "Write a function ```squarewave()``` that takes a value of ```x``` and computes the approximation ```sx``` to the series $S(x)$ and returns its value. Note that the series sum cannot go to $\\infty$. Stop the calculation of the sum for the value of $m$ for which  $\\left|\\frac{sin((2m+1)x)}{2m+1}\\right| < = 0.0001$.\n"
   ]
  },
  {
   "cell_type": "code",
   "execution_count": null,
   "metadata": {
    "ExecuteTime": {
     "end_time": "2021-10-18T22:22:20.927396Z",
     "start_time": "2021-10-18T22:22:20.417850Z"
    }
   },
   "outputs": [],
   "source": [
    "# Write your square wave solution here\n",
    "import numpy as np\n",
    "\n",
    "\n",
    "# This widget plots the function you have just programmed.\n",
    "import matplotlib.pyplot as plt \n",
    "x = np.linspace(-np.pi, np.pi,500)\n",
    "y = np.zeros(x.shape)\n",
    "for i in range(len(x)):\n",
    "    y[i] = squarewave(x[i])\n",
    "plt.plot(x,y)\n",
    "      "
   ]
  },
  {
   "cell_type": "markdown",
   "metadata": {},
   "source": [
    "# Problem 4:  Matrix Manipulation\n",
    "_(20 points)_\n",
    "\n",
    "__a)__ Write a function called ```combo()``` that takes in ```P```, ```Q```, ```a```, ```b```. The variables ```P``` and ```Q``` are 2D NumPy arrays, and ```a``` and ```b``` are scalars. ```combo()``` should compute and return the following nonlinear combination:\\\n",
    "$R=aP^2 + bQ^2$, i.e. $R_{ij} = aP_{ij}^2 + bQ_{ij}^2$.\n",
    "\n",
    " - You need to make sure that matrices ```P``` and ```Q``` have the same dimensions, and if they do not, then return a number 0.\n",
    "\n",
    "- You must use loop(s) to perform the calculation and cannot use any built in Python commands or vectorization (i.e. colon notation for additions).\n"
   ]
  },
  {
   "cell_type": "code",
   "execution_count": null,
   "metadata": {
    "ExecuteTime": {
     "end_time": "2021-10-18T22:22:24.325665Z",
     "start_time": "2021-10-18T22:22:24.316629Z"
    }
   },
   "outputs": [],
   "source": [
    "import numpy as np\n"
   ]
  },
  {
   "cell_type": "markdown",
   "metadata": {
    "ExecuteTime": {
     "end_time": "2021-10-16T20:01:22.633999Z",
     "start_time": "2021-10-16T20:01:22.625898Z"
    }
   },
   "source": [
    "__b) Using the above function, calculate $2X^2 + 3Y^2$ where X, Y are given below and store the result in matrix Z.__"
   ]
  },
  {
   "cell_type": "code",
   "execution_count": null,
   "metadata": {
    "ExecuteTime": {
     "end_time": "2021-10-16T21:28:13.345949Z",
     "start_time": "2021-10-16T21:28:13.335700Z"
    }
   },
   "outputs": [],
   "source": [
    "X = np.array([[TMP40X,TMP41X],[TMP42X,TMP43X]])\n",
    "Y = np.array([[TMP40Y,TMP41Y],[TMP42Y,TMP43Y]])\n",
    "\n",
    "## Type in solution here\n",
    "Z = 0\n",
    "print(Z)"
   ]
  },
  {
   "cell_type": "markdown",
   "metadata": {},
   "source": [
    "# Problem 5:  Working with real petrophysical data\n",
    "_(20 points)_\n",
    "\n",
    "Consider the data file named __acoustic.txt__ that accompanies the exam that is taken from an \n",
    "acoustic well log of a reservoir. $D_p$ is the travel time of a primary (compressible) \n",
    "acoustic wave through rock, $D_s$ is the travel time of a secondary (shear) \n",
    "acoustic wave through rock. You can open the file to inspect it."
   ]
  },
  {
   "cell_type": "markdown",
   "metadata": {
    "ExecuteTime": {
     "end_time": "2021-10-16T22:01:13.345330Z",
     "start_time": "2021-10-16T22:01:13.328891Z"
    }
   },
   "source": [
    "__a) Open the file and read in the RELEVANT data into NumPy arrays. That is, make sure that you skip the text lines at the beginning of the file that do not contain numerical data. Make a separate arrays for the depth, ```d```; primary wave velocity, ```D_p```; and secondary wave velocity, ```D_s```.__"
   ]
  },
  {
   "cell_type": "code",
   "execution_count": null,
   "metadata": {},
   "outputs": [],
   "source": []
  },
  {
   "cell_type": "markdown",
   "metadata": {},
   "source": [
    "__b) Calculate the minimum and maximum depth, ```d_min``` and ```d_max``` respectively.__"
   ]
  },
  {
   "cell_type": "code",
   "execution_count": null,
   "metadata": {},
   "outputs": [],
   "source": [
    "d_min = \n",
    "d_max = "
   ]
  },
  {
   "cell_type": "markdown",
   "metadata": {},
   "source": [
    "__c) Calculate average values for $D_p$ and $D_s$ without using any built-in Python functions.__ "
   ]
  },
  {
   "cell_type": "code",
   "execution_count": null,
   "metadata": {},
   "outputs": [],
   "source": []
  },
  {
   "cell_type": "markdown",
   "metadata": {},
   "source": [
    "__d) Calculate the following rock elastic properties of the rock for every depth and store them in two arrays ```r``` and ```nu```:__\n",
    "1) Ratio r of the travel times:\n",
    " $$ r = \\frac{D_p}{D_s} $$\n",
    "2) Poisson’s ratio (denoted by Greek letter $\\nu$):\n",
    "$$ \\nu = \\frac{0.5r^2-1}{r^2-1}$$"
   ]
  },
  {
   "cell_type": "code",
   "execution_count": null,
   "metadata": {},
   "outputs": [],
   "source": []
  },
  {
   "cell_type": "markdown",
   "metadata": {
    "ExecuteTime": {
     "end_time": "2021-10-16T22:33:40.893344Z",
     "start_time": "2021-10-16T22:33:40.886888Z"
    }
   },
   "source": [
    "# Problem 6: Visualization of surfaces in 3D\n",
    "\n",
    "_(5 points)_\n",
    "\n",
    "Consider the following function of two variables:\n",
    "$$z(x,y)=sin⁡(xy) $$\n",
    "\n",
    "\n",
    "Make a 3D surface plot in PyVista for data that ranges from $-10< x <10$ and $-10< y <10$. Using the spacing of the points in x and y domains as $\\Delta x = 0.01$ and $\\Delta y = 0.01$. \n",
    "\n",
    "Make the surface __red__."
   ]
  },
  {
   "cell_type": "code",
   "execution_count": null,
   "metadata": {
    "ExecuteTime": {
     "end_time": "2021-10-18T22:07:37.256047Z",
     "start_time": "2021-10-18T22:07:35.530361Z"
    }
   },
   "outputs": [],
   "source": [
    "import numpy as np\n",
    "import pyvista as pv\n"
   ]
  },
  {
   "cell_type": "markdown",
   "metadata": {},
   "source": [
    "\n"
   ]
  }
 ],
 "metadata": {
  "kernelspec": {
   "display_name": "Python 3 (ipykernel)",
   "language": "python",
   "name": "python3"
  },
  "language_info": {
   "codemirror_mode": {
    "name": "ipython",
    "version": 3
   },
   "file_extension": ".py",
   "mimetype": "text/x-python",
   "name": "python",
   "nbconvert_exporter": "python",
   "pygments_lexer": "ipython3",
   "version": "3.8.11"
  },
  "toc": {
   "base_numbering": 1,
   "nav_menu": {},
   "number_sections": true,
   "sideBar": true,
   "skip_h1_title": false,
   "title_cell": "Table of Contents",
   "title_sidebar": "Contents",
   "toc_cell": false,
   "toc_position": {},
   "toc_section_display": true,
   "toc_window_display": false
  },
  "varInspector": {
   "cols": {
    "lenName": 16,
    "lenType": 16,
    "lenVar": 40
   },
   "kernels_config": {
    "python": {
     "delete_cmd_postfix": "",
     "delete_cmd_prefix": "del ",
     "library": "var_list.py",
     "varRefreshCmd": "print(var_dic_list())"
    },
    "r": {
     "delete_cmd_postfix": ") ",
     "delete_cmd_prefix": "rm(",
     "library": "var_list.r",
     "varRefreshCmd": "cat(var_dic_list()) "
    }
   },
   "types_to_exclude": [
    "module",
    "function",
    "builtin_function_or_method",
    "instance",
    "_Feature"
   ],
   "window_display": false
  }
 },
 "nbformat": 4,
 "nbformat_minor": 4
}
